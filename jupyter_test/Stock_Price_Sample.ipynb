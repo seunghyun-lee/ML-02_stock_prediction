{
 "cells": [
  {
   "cell_type": "code",
   "execution_count": 46,
   "metadata": {},
   "outputs": [],
   "source": [
    "import pandas as pd\n",
    "import numpy as np\n",
    "import matplotlib.pyplot as plt\n",
    "import seaborn as seabornInstance\n",
    "from datetime import datetime, timedelta\n",
    "\n",
    "from sklearn.linear_model import LinearRegression, Ridge, Lasso\n",
    "from sklearn import preprocessing\n",
    "from sklearn.model_selection import train_test_split\n",
    "\n",
    "dataset = pd.read_csv('AAPL.csv')\n",
    "# converts string to datetime\n",
    "dataset['Date'] = pd.to_datetime(dataset.Date, format='%Y-%m-%d')\n",
    "# ser the index of dataset to date column\n",
    "dataset = dataset.set_index('Date')\n",
    "dataset = dataset.dropna()"
   ]
  },
  {
   "cell_type": "code",
   "execution_count": 47,
   "metadata": {},
   "outputs": [
    {
     "data": {
      "text/html": [
       "<div>\n",
       "<style scoped>\n",
       "    .dataframe tbody tr th:only-of-type {\n",
       "        vertical-align: middle;\n",
       "    }\n",
       "\n",
       "    .dataframe tbody tr th {\n",
       "        vertical-align: top;\n",
       "    }\n",
       "\n",
       "    .dataframe thead th {\n",
       "        text-align: right;\n",
       "    }\n",
       "</style>\n",
       "<table border=\"1\" class=\"dataframe\">\n",
       "  <thead>\n",
       "    <tr style=\"text-align: right;\">\n",
       "      <th></th>\n",
       "      <th>Open</th>\n",
       "      <th>High</th>\n",
       "      <th>Low</th>\n",
       "      <th>Close</th>\n",
       "      <th>Adj Close</th>\n",
       "      <th>Volume</th>\n",
       "    </tr>\n",
       "    <tr>\n",
       "      <th>Date</th>\n",
       "      <th></th>\n",
       "      <th></th>\n",
       "      <th></th>\n",
       "      <th></th>\n",
       "      <th></th>\n",
       "      <th></th>\n",
       "    </tr>\n",
       "  </thead>\n",
       "  <tbody>\n",
       "    <tr>\n",
       "      <td>2018-09-04</td>\n",
       "      <td>228.410004</td>\n",
       "      <td>229.179993</td>\n",
       "      <td>226.630005</td>\n",
       "      <td>228.360001</td>\n",
       "      <td>224.870499</td>\n",
       "      <td>27390100</td>\n",
       "    </tr>\n",
       "    <tr>\n",
       "      <td>2018-09-05</td>\n",
       "      <td>228.990005</td>\n",
       "      <td>229.669998</td>\n",
       "      <td>225.100006</td>\n",
       "      <td>226.869995</td>\n",
       "      <td>223.403275</td>\n",
       "      <td>33333000</td>\n",
       "    </tr>\n",
       "    <tr>\n",
       "      <td>2018-09-06</td>\n",
       "      <td>226.229996</td>\n",
       "      <td>227.350006</td>\n",
       "      <td>221.300003</td>\n",
       "      <td>223.100006</td>\n",
       "      <td>219.690903</td>\n",
       "      <td>34290000</td>\n",
       "    </tr>\n",
       "    <tr>\n",
       "      <td>2018-09-07</td>\n",
       "      <td>221.850006</td>\n",
       "      <td>225.369995</td>\n",
       "      <td>220.710007</td>\n",
       "      <td>221.300003</td>\n",
       "      <td>217.918411</td>\n",
       "      <td>37619800</td>\n",
       "    </tr>\n",
       "    <tr>\n",
       "      <td>2018-09-10</td>\n",
       "      <td>220.949997</td>\n",
       "      <td>221.850006</td>\n",
       "      <td>216.470001</td>\n",
       "      <td>218.330002</td>\n",
       "      <td>214.993759</td>\n",
       "      <td>39516500</td>\n",
       "    </tr>\n",
       "  </tbody>\n",
       "</table>\n",
       "</div>"
      ],
      "text/plain": [
       "                  Open        High         Low       Close   Adj Close  \\\n",
       "Date                                                                     \n",
       "2018-09-04  228.410004  229.179993  226.630005  228.360001  224.870499   \n",
       "2018-09-05  228.990005  229.669998  225.100006  226.869995  223.403275   \n",
       "2018-09-06  226.229996  227.350006  221.300003  223.100006  219.690903   \n",
       "2018-09-07  221.850006  225.369995  220.710007  221.300003  217.918411   \n",
       "2018-09-10  220.949997  221.850006  216.470001  218.330002  214.993759   \n",
       "\n",
       "              Volume  \n",
       "Date                  \n",
       "2018-09-04  27390100  \n",
       "2018-09-05  33333000  \n",
       "2018-09-06  34290000  \n",
       "2018-09-07  37619800  \n",
       "2018-09-10  39516500  "
      ]
     },
     "execution_count": 47,
     "metadata": {},
     "output_type": "execute_result"
    }
   ],
   "source": [
    "dataset.head()"
   ]
  },
  {
   "cell_type": "code",
   "execution_count": 48,
   "metadata": {
    "scrolled": true
   },
   "outputs": [],
   "source": [
    "# number of how many days to forecast\n",
    "forecast_out = 60\n",
    "dataset['Prediction'] = dataset['Adj Close'].shift(-forecast_out)"
   ]
  },
  {
   "cell_type": "code",
   "execution_count": 49,
   "metadata": {},
   "outputs": [],
   "source": [
    "x = np.array(dataset.drop(['Prediction'], 1))\n",
    "x = x[:-forecast_out]"
   ]
  },
  {
   "cell_type": "code",
   "execution_count": 50,
   "metadata": {},
   "outputs": [],
   "source": [
    "y = np.array(dataset['Prediction'])\n",
    "y = y[:-forecast_out]"
   ]
  },
  {
   "cell_type": "code",
   "execution_count": 51,
   "metadata": {},
   "outputs": [],
   "source": [
    "x_train, x_test, y_train, y_test = train_test_split(x, y, test_size = 0.2)"
   ]
  },
  {
   "cell_type": "code",
   "execution_count": 52,
   "metadata": {},
   "outputs": [
    {
     "name": "stderr",
     "output_type": "stream",
     "text": [
      "/usr/local/lib/python3.7/site-packages/sklearn/linear_model/coordinate_descent.py:475: ConvergenceWarning: Objective did not converge. You might want to increase the number of iterations. Duality gap: 6672.785286661627, tolerance: 5.311965178717095\n",
      "  positive)\n"
     ]
    },
    {
     "data": {
      "text/plain": [
       "Lasso(alpha=1.0, copy_X=True, fit_intercept=True, max_iter=1000,\n",
       "      normalize=False, positive=False, precompute=False, random_state=None,\n",
       "      selection='cyclic', tol=0.0001, warm_start=False)"
      ]
     },
     "execution_count": 52,
     "metadata": {},
     "output_type": "execute_result"
    }
   ],
   "source": [
    "# train data\n",
    "linear_model = LinearRegression()\n",
    "ridge_model = Ridge()\n",
    "lasso_model = Lasso()\n",
    "\n",
    "linear_model.fit(x_train, y_train)\n",
    "ridge_model.fit(x_train, y_train)\n",
    "lasso_model.fit(x_train, y_train)"
   ]
  },
  {
   "cell_type": "code",
   "execution_count": 53,
   "metadata": {},
   "outputs": [
    {
     "name": "stdout",
     "output_type": "stream",
     "text": [
      "LinearModel Score: 0.7557602346611981\n",
      "RidgeModel Score: 0.7512171431786904\n",
      "LassoModel Score: 0.5431108601309458\n"
     ]
    }
   ],
   "source": [
    "# each models score\n",
    "linear_model_score = linear_model.score(x_test, y_test)\n",
    "print('LinearModel Score:', linear_model_score)\n",
    "\n",
    "ridge_model_score = ridge_model.score(x_test, y_test)\n",
    "print('RidgeModel Score:', ridge_model_score)\n",
    "\n",
    "lasso_model_score = lasso_model.score(x_test, y_test)\n",
    "print('LassoModel Score:', lasso_model_score)"
   ]
  },
  {
   "cell_type": "code",
   "execution_count": 56,
   "metadata": {},
   "outputs": [],
   "source": [
    "x_forecast = np.array(dataset.drop(['Prediction'], 1))[-forecast_out:]\n",
    "linear_model_forecast_prediction = linear_model.predict(x_forecast)\n",
    "ridge_model_forecast_prediction = ridge_model.predict(x_forecast)\n",
    "lasso_model_forecast_prediction = lasso_model.predict(x_forecast)"
   ]
  },
  {
   "cell_type": "code",
   "execution_count": 61,
   "metadata": {},
   "outputs": [
    {
     "data": {
      "text/plain": [
       "<matplotlib.legend.Legend at 0x118ab6750>"
      ]
     },
     "execution_count": 61,
     "metadata": {},
     "output_type": "execute_result"
    },
    {
     "data": {
      "image/png": "[encoded data removed]",
      "text/plain": [
       "<Figure size 432x288 with 1 Axes>"
      ]
     },
     "metadata": {
      "needs_background": "light"
     },
     "output_type": "display_data"
    }
   ],
   "source": [
    "predicted_dates = []\n",
    "recent_date = dataset.index.max()\n",
    "for i in range(forecast_out):\n",
    "    recent_date += timedelta(days=1)\n",
    "    predicted_dates.append(recent_date)\n",
    "    \n",
    "plt.plot(dataset.index, dataset['Close'], label='Apple')\n",
    "plt.plot(predicted_dates, linear_model_forecast_prediction, label='Linear Preds')\n",
    "plt.plot(predicted_dates, ridge_model_forecast_prediction, label='Ridge Preds')\n",
    "plt.plot(predicted_dates, lasso_model_forecast_prediction, label='Lasso Preds')\n",
    "plt.legend()"
   ]
  },
  {
   "cell_type": "code",
   "execution_count": null,
   "metadata": {},
   "outputs": [],
   "source": []
  },
  {
   "cell_type": "code",
   "execution_count": null,
   "metadata": {},
   "outputs": [],
   "source": []
  },
  {
   "cell_type": "code",
   "execution_count": null,
   "metadata": {},
   "outputs": [],
   "source": []
  }
 ],
 "metadata": {
  "kernelspec": {
   "display_name": "Python 3",
   "language": "python",
   "name": "python3"
  },
  "language_info": {
   "codemirror_mode": {
    "name": "ipython",
    "version": 3
   },
   "file_extension": ".py",
   "mimetype": "text/x-python",
   "name": "python",
   "nbconvert_exporter": "python",
   "pygments_lexer": "ipython3",
   "version": "3.7.4"
  }
 },
 "nbformat": 4,
 "nbformat_minor": 2
}
